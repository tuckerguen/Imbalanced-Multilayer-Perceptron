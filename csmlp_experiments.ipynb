{
 "cells": [
  {
   "cell_type": "markdown",
   "source": [
    "# CSMLP Experiments\n",
    "## 1. Flare"
   ],
   "metadata": {
    "collapsed": false
   }
  },
  {
   "cell_type": "code",
   "execution_count": 1,
   "outputs": [
    {
     "ename": "ModuleNotFoundError",
     "evalue": "No module named 'mlp.neuron'",
     "output_type": "error",
     "traceback": [
      "\u001B[1;31m---------------------------------------------------------------------------\u001B[0m",
      "\u001B[1;31mModuleNotFoundError\u001B[0m                       Traceback (most recent call last)",
      "\u001B[1;32m<ipython-input-1-2832a0b0320d>\u001B[0m in \u001B[0;36m<module>\u001B[1;34m\u001B[0m\n\u001B[0;32m      1\u001B[0m \u001B[1;32mfrom\u001B[0m \u001B[0mdata_help\u001B[0m\u001B[1;33m.\u001B[0m\u001B[0mdata_help\u001B[0m \u001B[1;32mimport\u001B[0m \u001B[1;33m*\u001B[0m\u001B[1;33m\u001B[0m\u001B[1;33m\u001B[0m\u001B[0m\n\u001B[1;32m----> 2\u001B[1;33m \u001B[1;32mfrom\u001B[0m \u001B[0mmlp\u001B[0m\u001B[1;33m.\u001B[0m\u001B[0mmlp\u001B[0m \u001B[1;32mimport\u001B[0m \u001B[1;33m*\u001B[0m\u001B[1;33m\u001B[0m\u001B[1;33m\u001B[0m\u001B[0m\n\u001B[0m\u001B[0;32m      3\u001B[0m \u001B[1;32mfrom\u001B[0m \u001B[0mdata_help\u001B[0m\u001B[1;33m.\u001B[0m\u001B[0mstratcv\u001B[0m \u001B[1;32mimport\u001B[0m \u001B[1;33m*\u001B[0m\u001B[1;33m\u001B[0m\u001B[1;33m\u001B[0m\u001B[0m\n\u001B[0;32m      4\u001B[0m \u001B[1;32mfrom\u001B[0m \u001B[0mscipy\u001B[0m\u001B[1;33m.\u001B[0m\u001B[0mstats\u001B[0m \u001B[1;32mimport\u001B[0m \u001B[0mttest_ind\u001B[0m\u001B[1;33m\u001B[0m\u001B[1;33m\u001B[0m\u001B[0m\n\u001B[0;32m      5\u001B[0m \u001B[1;33m\u001B[0m\u001B[0m\n",
      "\u001B[1;32mC:\\School\\20F\\CSDS440\\ProgrammingProjects\\Local\\Imbalanced-Multilayer-Perceptron\\mlp\\mlp.py\u001B[0m in \u001B[0;36m<module>\u001B[1;34m\u001B[0m\n\u001B[0;32m      1\u001B[0m \u001B[1;32mimport\u001B[0m \u001B[0mnumpy\u001B[0m \u001B[1;32mas\u001B[0m \u001B[0mnp\u001B[0m\u001B[1;33m\u001B[0m\u001B[1;33m\u001B[0m\u001B[0m\n\u001B[1;32m----> 2\u001B[1;33m \u001B[1;32mfrom\u001B[0m \u001B[0mmlp\u001B[0m\u001B[1;33m.\u001B[0m\u001B[0mlayer\u001B[0m \u001B[1;32mimport\u001B[0m \u001B[0mLayer\u001B[0m\u001B[1;33m\u001B[0m\u001B[1;33m\u001B[0m\u001B[0m\n\u001B[0m\u001B[0;32m      3\u001B[0m \u001B[1;32mimport\u001B[0m \u001B[0mmatplotlib\u001B[0m\u001B[1;33m.\u001B[0m\u001B[0mpyplot\u001B[0m \u001B[1;32mas\u001B[0m \u001B[0mplt\u001B[0m\u001B[1;33m\u001B[0m\u001B[1;33m\u001B[0m\u001B[0m\n\u001B[0;32m      4\u001B[0m \u001B[1;32mfrom\u001B[0m \u001B[0mdata_help\u001B[0m\u001B[1;33m.\u001B[0m\u001B[0mexset_ops\u001B[0m \u001B[1;32mimport\u001B[0m \u001B[0mweighted_acc\u001B[0m\u001B[1;33m,\u001B[0m \u001B[0maccuracy\u001B[0m\u001B[1;33m\u001B[0m\u001B[1;33m\u001B[0m\u001B[0m\n\u001B[0;32m      5\u001B[0m \u001B[1;32mfrom\u001B[0m \u001B[0m_heapq\u001B[0m \u001B[1;32mimport\u001B[0m \u001B[0mheappush\u001B[0m\u001B[1;33m,\u001B[0m \u001B[0mheappop\u001B[0m\u001B[1;33m\u001B[0m\u001B[1;33m\u001B[0m\u001B[0m\n",
      "\u001B[1;32mC:\\School\\20F\\CSDS440\\ProgrammingProjects\\Local\\Imbalanced-Multilayer-Perceptron\\mlp\\layer.py\u001B[0m in \u001B[0;36m<module>\u001B[1;34m\u001B[0m\n\u001B[0;32m      1\u001B[0m \u001B[1;32mimport\u001B[0m \u001B[0mnumpy\u001B[0m \u001B[1;32mas\u001B[0m \u001B[0mnp\u001B[0m\u001B[1;33m\u001B[0m\u001B[1;33m\u001B[0m\u001B[0m\n\u001B[1;32m----> 2\u001B[1;33m \u001B[1;32mfrom\u001B[0m \u001B[0mmlp\u001B[0m\u001B[1;33m.\u001B[0m\u001B[0mneuron\u001B[0m \u001B[1;32mimport\u001B[0m \u001B[0mNeuron\u001B[0m\u001B[1;33m\u001B[0m\u001B[1;33m\u001B[0m\u001B[0m\n\u001B[0m\u001B[0;32m      3\u001B[0m \u001B[1;33m\u001B[0m\u001B[0m\n\u001B[0;32m      4\u001B[0m \u001B[1;33m\u001B[0m\u001B[0m\n\u001B[0;32m      5\u001B[0m \u001B[1;32mclass\u001B[0m \u001B[0mLayer\u001B[0m\u001B[1;33m:\u001B[0m\u001B[1;33m\u001B[0m\u001B[1;33m\u001B[0m\u001B[0m\n",
      "\u001B[1;31mModuleNotFoundError\u001B[0m: No module named 'mlp.neuron'"
     ]
    }
   ],
   "source": [
    "from data_help.data_help import *\n",
    "from mlp.mlp import *\n",
    "from data_help.stratcv import *\n",
    "from scipy.stats import ttest_ind"
   ],
   "metadata": {
    "collapsed": false,
    "pycharm": {
     "name": "#%%\n"
    }
   }
  },
  {
   "cell_type": "code",
   "source": [
    "# Configuration\n",
    "dataset_name = 'flare'\n",
    "T = dataset_load(dataset_name)\n",
    "T1, T2 = split_by_label(T)\n",
    "\n",
    "mu = 0.1\n",
    "beta = 10\n",
    "h = 3\n",
    "\n",
    "# Compute lambda\n",
    "_lambda = len(T2) / len(T) / 2"
   ],
   "metadata": {
    "collapsed": false,
    "pycharm": {
     "name": "#%%\n"
    }
   },
   "execution_count": 2,
   "outputs": []
  },
  {
   "cell_type": "code",
   "execution_count": 8,
   "outputs": [
    {
     "ename": "NameError",
     "evalue": "name 'MLP' is not defined",
     "output_type": "error",
     "traceback": [
      "\u001B[1;31m---------------------------------------------------------------------------\u001B[0m",
      "\u001B[1;31mNameError\u001B[0m                                 Traceback (most recent call last)",
      "\u001B[1;32m<ipython-input-8-fe57f919cb23>\u001B[0m in \u001B[0;36m<module>\u001B[1;34m\u001B[0m\n\u001B[0;32m      1\u001B[0m \u001B[1;31m# standard MLP\u001B[0m\u001B[1;33m\u001B[0m\u001B[1;33m\u001B[0m\u001B[1;33m\u001B[0m\u001B[0m\n\u001B[1;32m----> 2\u001B[1;33m \u001B[0mmlp_base\u001B[0m \u001B[1;33m=\u001B[0m \u001B[0mMLP\u001B[0m\u001B[1;33m(\u001B[0m\u001B[0mT1\u001B[0m\u001B[1;33m.\u001B[0m\u001B[0mshape\u001B[0m\u001B[1;33m[\u001B[0m\u001B[1;36m1\u001B[0m\u001B[1;33m]\u001B[0m\u001B[1;33m,\u001B[0m \u001B[1;36m23\u001B[0m\u001B[1;33m,\u001B[0m \u001B[1;36m0.5\u001B[0m\u001B[1;33m,\u001B[0m \u001B[0mnp\u001B[0m\u001B[1;33m.\u001B[0m\u001B[0mtanh\u001B[0m\u001B[1;33m,\u001B[0m \u001B[0mmu\u001B[0m\u001B[1;33m,\u001B[0m \u001B[0mbeta\u001B[0m\u001B[1;33m)\u001B[0m\u001B[1;33m\u001B[0m\u001B[1;33m\u001B[0m\u001B[0m\n\u001B[0m\u001B[0;32m      3\u001B[0m \u001B[0mbase_acc\u001B[0m \u001B[1;33m=\u001B[0m \u001B[0mkfold_cv\u001B[0m\u001B[1;33m(\u001B[0m\u001B[0mmlp_base\u001B[0m\u001B[1;33m,\u001B[0m \u001B[0mT\u001B[0m\u001B[1;33m,\u001B[0m \u001B[1;36m5\u001B[0m\u001B[1;33m)\u001B[0m\u001B[1;33m\u001B[0m\u001B[1;33m\u001B[0m\u001B[0m\n",
      "\u001B[1;31mNameError\u001B[0m: name 'MLP' is not defined"
     ]
    }
   ],
   "source": [
    "# standard MLP\n",
    "mlp_base = MLP(T1.shape[1], 23, 0.5, np.tanh, mu, beta)\n",
    "base_acc = kfold_cv(mlp_base, T, 5)"
   ],
   "metadata": {
    "collapsed": false,
    "pycharm": {
     "name": "#%%\n"
    }
   }
  },
  {
   "cell_type": "code",
   "execution_count": 4,
   "outputs": [
    {
     "name": "stdout",
     "output_type": "stream",
     "text": [
      "Final loss= [[334.16012296]]\n",
      "[0.4823008849557522, 0.6346153846153846, 0.6204147167205522, 0.5107913669064749, 0.5584581347855684, 0.5532409616130525]\n",
      "Final loss= [[392.97456414]]\n",
      "[0.42920353982300885, 0.5961538461538461, 0.5805886448076666, 0.460431654676259, 0.5126786929884275, 0.505837267358122]\n",
      "Final loss= [[229.75457363]]\n",
      "[0.0, 1.0, 0.9067674586033118, 0.18705035971223022, 0.5, 0.0]\n",
      "Final loss= [[227.84850668]]\n",
      "[0.11946902654867257, 0.9230769230769231, 0.8481545165971475, 0.2697841726618705, 0.5212729748127979, 0.33208297371220935]\n",
      "Final loss= [[230.19094406]]\n",
      "[0.0, 1.0, 0.9067674586033118, 0.18411552346570398, 0.5, 0.0]\n"
     ]
    }
   ],
   "source": [
    "# CSMLP\n",
    "csmlp = MLP(T1.shape[1], h, _lambda, np.tanh, mu, beta)\n",
    "csmlp_acc = kfold_cv(csmlp, T, 5)"
   ],
   "metadata": {
    "collapsed": false,
    "pycharm": {
     "name": "#%%\n"
    }
   }
  },
  {
   "cell_type": "code",
   "execution_count": 11,
   "outputs": [
    {
     "ename": "ValueError",
     "evalue": "The truth value of an array with more than one element is ambiguous. Use a.any() or a.all()",
     "output_type": "error",
     "traceback": [
      "\u001B[1;31m---------------------------------------------------------------------------\u001B[0m",
      "\u001B[1;31mValueError\u001B[0m                                Traceback (most recent call last)",
      "\u001B[1;32m<ipython-input-11-7e3dbce78f07>\u001B[0m in \u001B[0;36m<module>\u001B[1;34m\u001B[0m\n\u001B[0;32m      1\u001B[0m \u001B[1;31m# repeat CSMLP\u001B[0m\u001B[1;33m\u001B[0m\u001B[1;33m\u001B[0m\u001B[1;33m\u001B[0m\u001B[0m\n\u001B[0;32m      2\u001B[0m \u001B[0mrpcsmlp\u001B[0m \u001B[1;33m=\u001B[0m \u001B[0mMLP\u001B[0m\u001B[1;33m(\u001B[0m\u001B[0mT1\u001B[0m\u001B[1;33m.\u001B[0m\u001B[0mshape\u001B[0m\u001B[1;33m[\u001B[0m\u001B[1;36m1\u001B[0m\u001B[1;33m]\u001B[0m\u001B[1;33m,\u001B[0m \u001B[0mh\u001B[0m\u001B[1;33m,\u001B[0m \u001B[0m_lambda\u001B[0m\u001B[1;33m,\u001B[0m \u001B[0mnp\u001B[0m\u001B[1;33m.\u001B[0m\u001B[0mtanh\u001B[0m\u001B[1;33m,\u001B[0m \u001B[0mmu\u001B[0m\u001B[1;33m,\u001B[0m \u001B[0mbeta\u001B[0m\u001B[1;33m,\u001B[0m \u001B[0mrepeat\u001B[0m\u001B[1;33m=\u001B[0m\u001B[1;32mTrue\u001B[0m\u001B[1;33m)\u001B[0m\u001B[1;33m\u001B[0m\u001B[1;33m\u001B[0m\u001B[0m\n\u001B[1;32m----> 3\u001B[1;33m \u001B[0mrpcsmlp_acc\u001B[0m \u001B[1;33m=\u001B[0m \u001B[0mkfold_cv\u001B[0m\u001B[1;33m(\u001B[0m\u001B[0mrpcsmlp\u001B[0m\u001B[1;33m,\u001B[0m \u001B[0mT\u001B[0m\u001B[1;33m,\u001B[0m \u001B[1;36m5\u001B[0m\u001B[1;33m)\u001B[0m\u001B[1;33m\u001B[0m\u001B[1;33m\u001B[0m\u001B[0m\n\u001B[0m",
      "\u001B[1;32mC:\\School\\20F\\CSDS440\\ProgrammingProjects\\Local\\Imbalanced-Multilayer-Perceptron\\data_help\\stratcv.py\u001B[0m in \u001B[0;36mkfold_cv\u001B[1;34m(mlp, T, k)\u001B[0m\n\u001B[0;32m     33\u001B[0m \u001B[1;33m\u001B[0m\u001B[0m\n\u001B[0;32m     34\u001B[0m         \u001B[1;31m# Train classifier on training set\u001B[0m\u001B[1;33m\u001B[0m\u001B[1;33m\u001B[0m\u001B[1;33m\u001B[0m\u001B[0m\n\u001B[1;32m---> 35\u001B[1;33m         \u001B[0mmlp\u001B[0m\u001B[1;33m.\u001B[0m\u001B[0mtrain\u001B[0m\u001B[1;33m(\u001B[0m\u001B[0mtrain1\u001B[0m\u001B[1;33m,\u001B[0m \u001B[0mtrain2\u001B[0m\u001B[1;33m)\u001B[0m\u001B[1;33m\u001B[0m\u001B[1;33m\u001B[0m\u001B[0m\n\u001B[0m\u001B[0;32m     36\u001B[0m \u001B[1;33m\u001B[0m\u001B[0m\n\u001B[0;32m     37\u001B[0m         \u001B[1;31m# Evaluate the classifier on test set\u001B[0m\u001B[1;33m\u001B[0m\u001B[1;33m\u001B[0m\u001B[1;33m\u001B[0m\u001B[0m\n",
      "\u001B[1;32mC:\\School\\20F\\CSDS440\\ProgrammingProjects\\Local\\Imbalanced-Multilayer-Perceptron\\mlp\\mlp.py\u001B[0m in \u001B[0;36mtrain\u001B[1;34m(self, T1, T2)\u001B[0m\n\u001B[0;32m     68\u001B[0m         \u001B[0mbeta\u001B[0m \u001B[1;33m=\u001B[0m \u001B[0mself\u001B[0m\u001B[1;33m.\u001B[0m\u001B[0mbeta\u001B[0m\u001B[1;33m\u001B[0m\u001B[1;33m\u001B[0m\u001B[0m\n\u001B[0;32m     69\u001B[0m \u001B[1;33m\u001B[0m\u001B[0m\n\u001B[1;32m---> 70\u001B[1;33m         \u001B[0mmins0\u001B[0m\u001B[1;33m,\u001B[0m \u001B[0mx0s\u001B[0m\u001B[1;33m,\u001B[0m \u001B[0ml0s\u001B[0m \u001B[1;33m=\u001B[0m \u001B[0mself\u001B[0m\u001B[1;33m.\u001B[0m\u001B[0mLM_optimize_weights\u001B[0m\u001B[1;33m(\u001B[0m\u001B[0mmu\u001B[0m\u001B[1;33m,\u001B[0m \u001B[0mbeta\u001B[0m\u001B[1;33m,\u001B[0m \u001B[0mT1\u001B[0m\u001B[1;33m,\u001B[0m \u001B[0mT2\u001B[0m\u001B[1;33m)\u001B[0m\u001B[1;33m\u001B[0m\u001B[1;33m\u001B[0m\u001B[0m\n\u001B[0m\u001B[0;32m     71\u001B[0m \u001B[1;33m\u001B[0m\u001B[0m\n\u001B[0;32m     72\u001B[0m         \u001B[1;32mif\u001B[0m \u001B[0mself\u001B[0m\u001B[1;33m.\u001B[0m\u001B[0mrepeat\u001B[0m\u001B[1;33m:\u001B[0m\u001B[1;33m\u001B[0m\u001B[1;33m\u001B[0m\u001B[0m\n",
      "\u001B[1;32mC:\\School\\20F\\CSDS440\\ProgrammingProjects\\Local\\Imbalanced-Multilayer-Perceptron\\mlp\\mlp.py\u001B[0m in \u001B[0;36mLM_optimize_weights\u001B[1;34m(self, mu, beta, T1, T2)\u001B[0m\n\u001B[0;32m    161\u001B[0m \u001B[1;33m\u001B[0m\u001B[0m\n\u001B[0;32m    162\u001B[0m                 \u001B[1;31m# Track top 3 minimum losses visited\u001B[0m\u001B[1;33m\u001B[0m\u001B[1;33m\u001B[0m\u001B[1;33m\u001B[0m\u001B[0m\n\u001B[1;32m--> 163\u001B[1;33m                 \u001B[0mheappush\u001B[0m\u001B[1;33m(\u001B[0m\u001B[0mmin_loss_and_weights\u001B[0m\u001B[1;33m,\u001B[0m \u001B[1;33m(\u001B[0m\u001B[1;33m-\u001B[0m\u001B[0mJnew\u001B[0m\u001B[1;33m,\u001B[0m \u001B[0mself\u001B[0m\u001B[1;33m.\u001B[0m\u001B[0mhidden\u001B[0m\u001B[1;33m.\u001B[0m\u001B[0mweights\u001B[0m\u001B[1;33m,\u001B[0m \u001B[0mself\u001B[0m\u001B[1;33m.\u001B[0m\u001B[0moutput\u001B[0m\u001B[1;33m.\u001B[0m\u001B[0mweights\u001B[0m\u001B[1;33m)\u001B[0m\u001B[1;33m)\u001B[0m\u001B[1;33m\u001B[0m\u001B[1;33m\u001B[0m\u001B[0m\n\u001B[0m\u001B[0;32m    164\u001B[0m                 \u001B[1;32mif\u001B[0m \u001B[0mlen\u001B[0m\u001B[1;33m(\u001B[0m\u001B[0mmin_loss_and_weights\u001B[0m\u001B[1;33m)\u001B[0m \u001B[1;33m>\u001B[0m \u001B[1;36m3\u001B[0m\u001B[1;33m:\u001B[0m\u001B[1;33m\u001B[0m\u001B[1;33m\u001B[0m\u001B[0m\n\u001B[0;32m    165\u001B[0m                     \u001B[0mheappop\u001B[0m\u001B[1;33m(\u001B[0m\u001B[0mmin_loss_and_weights\u001B[0m\u001B[1;33m)\u001B[0m\u001B[1;33m\u001B[0m\u001B[1;33m\u001B[0m\u001B[0m\n",
      "\u001B[1;31mValueError\u001B[0m: The truth value of an array with more than one element is ambiguous. Use a.any() or a.all()"
     ]
    }
   ],
   "source": [
    "# repeat CSMLP\n",
    "rpcsmlp = MLP(T1.shape[1], h, _lambda, np.tanh, mu, beta, repeat=True)\n",
    "rpcsmlp_acc = kfold_cv(rpcsmlp, T, 5)"
   ],
   "metadata": {
    "collapsed": false,
    "pycharm": {
     "name": "#%%\n"
    }
   }
  },
  {
   "cell_type": "code",
   "execution_count": 9,
   "outputs": [
    {
     "name": "stdout",
     "output_type": "stream",
     "text": [
      "Base mlp accuracy: [1.         0.         0.5        0.81353661 0.5        0.        ]\n",
      "csmlp accuracy: [0.12477876 0.96515837 0.88680764 0.2815365  0.54496857 0.34100127]\n",
      "rpcsmlp accuracy: [0.12477876 0.96515837 0.88680764 0.2815365  0.54496857 0.34100127]\n"
     ]
    }
   ],
   "source": [
    "print(\"Base mlp accuracy:\", base_acc)\n",
    "print(\"csmlp accuracy:\", csmlp_acc)\n",
    "print(\"rpcsmlp accuracy:\", rpcsmlp_acc)"
   ],
   "metadata": {
    "collapsed": false,
    "pycharm": {
     "name": "#%%\n"
    }
   }
  },
  {
   "cell_type": "markdown",
   "source": [
    "## t-tests"
   ],
   "metadata": {
    "collapsed": false,
    "pycharm": {
     "name": "#%% md\n"
    }
   }
  },
  {
   "cell_type": "code",
   "execution_count": 9,
   "outputs": [
    {
     "name": "stdout",
     "output_type": "stream",
     "text": [
      "Ttest_indResult(statistic=array([ 7.59419932, -9.30809693, -3.82119516,  7.13461898, -1.71499898,\n",
      "       -2.33011882]), pvalue=array([6.33933543e-05, 1.44592772e-05, 5.08108382e-03, 9.85712237e-05,\n",
      "       1.24687569e-01, 4.81527562e-02]))\n"
     ]
    }
   ],
   "source": [
    "base_vs_cs = ttest_ind(base_acc, csmlp_acc)\n",
    "print(base_vs_cs)"
   ],
   "metadata": {
    "collapsed": false,
    "pycharm": {
     "name": "#%%\n"
    }
   }
  },
  {
   "cell_type": "code",
   "execution_count": 10,
   "outputs": [
    {
     "ename": "NameError",
     "evalue": "name 'rpcsmlp_acc' is not defined",
     "output_type": "error",
     "traceback": [
      "\u001B[1;31m---------------------------------------------------------------------------\u001B[0m",
      "\u001B[1;31mNameError\u001B[0m                                 Traceback (most recent call last)",
      "\u001B[1;32m<ipython-input-10-ed9208147726>\u001B[0m in \u001B[0;36m<module>\u001B[1;34m\u001B[0m\n\u001B[1;32m----> 1\u001B[1;33m \u001B[0mcs_vs_repeat\u001B[0m \u001B[1;33m=\u001B[0m \u001B[0mttest_ind\u001B[0m\u001B[1;33m(\u001B[0m\u001B[0mcsmlp_acc\u001B[0m\u001B[1;33m,\u001B[0m \u001B[0mrpcsmlp_acc\u001B[0m\u001B[1;33m)\u001B[0m\u001B[1;33m\u001B[0m\u001B[1;33m\u001B[0m\u001B[0m\n\u001B[0m\u001B[0;32m      2\u001B[0m \u001B[1;33m\u001B[0m\u001B[0m\n\u001B[0;32m      3\u001B[0m \u001B[1;33m\u001B[0m\u001B[0m\n",
      "\u001B[1;31mNameError\u001B[0m: name 'rpcsmlp_acc' is not defined"
     ]
    }
   ],
   "source": [
    "cs_vs_repeat = ttest_ind(csmlp_acc, rpcsmlp_acc)\n",
    "\n"
   ],
   "metadata": {
    "collapsed": false,
    "pycharm": {
     "name": "#%%\n"
    }
   }
  },
  {
   "cell_type": "code",
   "execution_count": null,
   "outputs": [],
   "source": [],
   "metadata": {
    "collapsed": false,
    "pycharm": {
     "name": "#%%\n"
    }
   }
  }
 ],
 "metadata": {
  "kernelspec": {
   "display_name": "Python 3",
   "language": "python",
   "name": "python3"
  },
  "language_info": {
   "codemirror_mode": {
    "name": "ipython",
    "version": 2
   },
   "file_extension": ".py",
   "mimetype": "text/x-python",
   "name": "python",
   "nbconvert_exporter": "python",
   "pygments_lexer": "ipython2",
   "version": "2.7.6"
  }
 },
 "nbformat": 4,
 "nbformat_minor": 0
}