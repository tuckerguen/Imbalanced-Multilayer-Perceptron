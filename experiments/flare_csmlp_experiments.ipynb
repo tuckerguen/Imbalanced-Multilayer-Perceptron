{
 "cells": [
  {
   "cell_type": "code",
   "execution_count": 23,
   "outputs": [],
   "source": [
    "from data_help.data_help import *\n",
    "from mlp.mlp import *\n",
    "from data_help.stratcv import *\n",
    "from scipy.stats import ttest_ind"
   ],
   "metadata": {
    "collapsed": false,
    "pycharm": {
     "name": "#%%\n"
    }
   }
  },
  {
   "cell_type": "markdown",
   "source": [
    "# CSMLP Experiments\n",
    "## 1. Flare"
   ],
   "metadata": {
    "collapsed": false
   }
  },
  {
   "cell_type": "code",
   "execution_count": 25,
   "outputs": [],
   "source": [
    "# Configuration\n",
    "dataset_name = 'flare'\n",
    "T = dataset_load(dataset_name)\n",
    "T1, T2 = split_by_label(T)\n",
    "\n",
    "mu = 0.1\n",
    "beta = 10\n",
    "h = 7\n",
    "\n",
    "# Compute lambda\n",
    "_lambda = len(T2) / len(T)"
   ],
   "metadata": {
    "collapsed": false,
    "pycharm": {
     "name": "#%%\n"
    }
   }
  },
  {
   "cell_type": "code",
   "execution_count": null,
   "outputs": [],
   "source": [
    "# standard MLP\n",
    "mlp_base = MLP(T1.shape[1], h, 0.5, np.tanh, mu, beta)\n",
    "base_acc = kfold_cv(mlp_base, T, 5)"
   ],
   "metadata": {
    "collapsed": false,
    "pycharm": {
     "name": "#%%\n"
    }
   }
  },
  {
   "cell_type": "code",
   "execution_count": null,
   "outputs": [],
   "source": [
    "mlp_base1 = MLP(T1.shape[1], h, 0.5, np.tanh, mu, beta, repeat=True)\n",
    "mlp_base1.train(T1, T2)\n",
    "mlp_base_acc1 = eval_mlp(mlp_base1, T, T1, T2)\n",
    "print(mlp_base_acc1)"
   ],
   "metadata": {
    "collapsed": false,
    "pycharm": {
     "name": "#%%\n"
    }
   }
  },
  {
   "cell_type": "code",
   "execution_count": 32,
   "outputs": [
    {
     "name": "stdout",
     "output_type": "stream",
     "text": [
      "Final loss= [[495.84111768]]45]][[620.1548762]][[615.50758797]][[600.91649016]][[594.93805098]][[614.59340746]][[626.74377183]][[464.86379592]][[482.49295199]][[557.31820078]][[539.44690106]][[603.2799047]][[633.64364426]][[479.36391583]][[639.55687582]][[677.82580676]][[474.50738521]][[608.77187981]][[602.92028962]][[532.90004412]][[549.65898841]][[314.47600317]][[570.03448213]][[466.5177163]][[515.11298936]][[461.631645]][[555.44084097]][[563.05664261]][[584.61735225]][[494.50251616]][[496.76268318]][[503.18347153]][[495.84127781]][[495.84111768]]\n",
      "[0.6283185840707964, 0.6153846153846154, 0.6177963489265311, 0.6258992805755396, 0.6218515997277059, 0.6218179719157474]\n",
      "Final loss= [[678.82793377]]\n",
      "[0.995575221238938, 0.0, 0.18564001605535274, 0.8093525179856115, 0.497787610619469, 0.0]\n",
      "Final loss= [[682.52843772]]\n",
      "[0.0, 0.9807692307692307, 0.79789001495265, 0.18345323741007194, 0.49038461538461536, 0.0]\n",
      "[[353.14819132]]\r[363.02791342]][[357.50365547]][[312.61938488]][[313.06223968]][[313.63425358]][[333.81853777]][[346.66138968]][[340.04469049]][[333.07602652]][[332.15778139]][[328.04239477]][[336.86958055]][[331.5527117]][[324.52364573]][[297.52041784]][[369.43719945]][[317.16363071]][[340.69682671]][[335.69709903]][[317.17267472]][[320.50113276]][[316.08177647]][[413.09882958]][[317.72705814]][[331.91452587]][[306.81173521]][[305.32918224]][[312.55773]][[308.12727471]][[313.85726427]][[315.3565303]][[318.74142507]][[318.05320287]][[323.17439635]][[330.34373722]][[333.90169656]][[330.36648351]][[311.30268552]][[321.10901117]][[323.21606193]][[319.304165]][[320.03473274]][[330.59699278]][[335.61240524]][[325.32782926]][[333.56405624]][[320.87650457]][[330.96738227]][[334.84967199]][[316.16782123]][[325.09295458]][[319.67540593]][[334.6897494]][[320.34249712]][[330.84351089]][[347.57107986]][[334.83893939]][[338.71919444]][[316.65377225]][[351.97480854]][[353.14471326]][[353.14816083]]Final loss= [[353.14819132]]\n",
      "[0.12389380530973451, 0.9038461538461539, 0.758412274601422, 0.2697841726618705, 0.5138699795779442, 0.3346355322056636]\n",
      "Final loss= [[510.26638979]]\n",
      "[0.6637168141592921, 0.6274509803921569, 0.6342132920881165, 0.6570397111913358, 0.6455838972757244, 0.6453291917672769]\n"
     ]
    }
   ],
   "source": [
    "# CSMLP\n",
    "csmlp = MLP(T1.shape[1], h, _lambda, np.tanh, mu, beta)\n",
    "csmlp_acc = kfold_cv(csmlp, T, 5)"
   ],
   "metadata": {
    "collapsed": false,
    "pycharm": {
     "name": "#%%\n"
    }
   }
  },
  {
   "cell_type": "code",
   "execution_count": null,
   "outputs": [],
   "source": [
    "# repeat CSMLP\n",
    "rpcsmlp = MLP(T1.shape[1], h, _lambda, np.tanh, mu, beta, repeat=True)\n",
    "rpcsmlp_acc = kfold_cv(rpcsmlp, T, 5)"
   ],
   "metadata": {
    "collapsed": false,
    "pycharm": {
     "name": "#%%\n"
    }
   }
  },
  {
   "cell_type": "code",
   "execution_count": null,
   "outputs": [],
   "source": [
    "# repeat CSMLP\n",
    "rpcsmlp1 = MLP(T1.shape[1], h, _lambda, np.tanh, mu, beta, repeat=True)\n",
    "rpcsmlp1_acc = kfold_cv(rpcsmlp1, T, 5)"
   ],
   "metadata": {
    "collapsed": false,
    "pycharm": {
     "name": "#%%\n"
    }
   }
  },
  {
   "cell_type": "code",
   "execution_count": null,
   "outputs": [],
   "source": [
    "# single repeat CSMLP\n",
    "rpcsmlp2 = MLP(T1.shape[1], h, _lambda, np.tanh, mu, beta, repeat=True)\n",
    "rpcsmlp2_acc = eval_mlp(rpcsmlp2, T, T1, T2)\n",
    "print(rpcsmlp2)"
   ],
   "metadata": {
    "collapsed": false,
    "pycharm": {
     "name": "#%%\n"
    }
   }
  },
  {
   "cell_type": "code",
   "execution_count": null,
   "outputs": [],
   "source": [
    "print(\"Base mlp accuracy:\", base_acc)\n",
    "print(\"csmlp accuracy:\", csmlp_acc)\n",
    "print(\"rpcsmlp accuracy:\", rpcsmlp1_acc)"
   ],
   "metadata": {
    "collapsed": false,
    "pycharm": {
     "name": "#%%\n"
    }
   }
  },
  {
   "cell_type": "markdown",
   "source": [
    "## t-tests"
   ],
   "metadata": {
    "collapsed": false
   }
  },
  {
   "cell_type": "code",
   "execution_count": 35,
   "outputs": [
    {
     "name": "stdout",
     "output_type": "stream",
     "text": [
      "Ttest_indResult(statistic=array([ 2.0169641 , -4.83753265, -4.04957191,  1.52633737, -2.57164574,\n",
      "       -2.15473672]), pvalue=array([0.11389106, 0.00841513, 0.01548119, 0.2016287 , 0.06187104,\n",
      "       0.09746242]))\n"
     ]
    }
   ],
   "source": [
    "base_vs_cs = ttest_ind(base_acc, csmlp_acc)\n",
    "print(base_vs_cs)"
   ],
   "metadata": {
    "collapsed": false,
    "pycharm": {
     "name": "#%%\n"
    }
   }
  },
  {
   "cell_type": "code",
   "execution_count": 30,
   "outputs": [
    {
     "name": "stdout",
     "output_type": "stream",
     "text": [
      "Ttest_indResult(statistic=array([ 2.29553432, -2.39571434, -2.91867516,  2.23109189, -0.58499633,\n",
      "       -0.2371975 ]), pvalue=array([0.05082389, 0.04346646, 0.01933046, 0.05620116, 0.57467467,\n",
      "       0.81846494]))\n"
     ]
    }
   ],
   "source": [
    "cs_vs_repeat = ttest_ind(csmlp_acc, rpcsmlp_acc)\n",
    "print(cs_vs_repeat)"
   ],
   "metadata": {
    "collapsed": false,
    "pycharm": {
     "name": "#%%\n"
    }
   }
  }
 ],
 "metadata": {
  "kernelspec": {
   "display_name": "Python 3",
   "language": "python",
   "name": "python3"
  },
  "language_info": {
   "codemirror_mode": {
    "name": "ipython",
    "version": 2
   },
   "file_extension": ".py",
   "mimetype": "text/x-python",
   "name": "python",
   "nbconvert_exporter": "python",
   "pygments_lexer": "ipython2",
   "version": "2.7.6"
  }
 },
 "nbformat": 4,
 "nbformat_minor": 0
}